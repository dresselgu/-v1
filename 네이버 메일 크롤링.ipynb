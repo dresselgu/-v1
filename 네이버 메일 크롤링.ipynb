{
 "cells": [
  {
   "cell_type": "code",
   "execution_count": 1,
   "id": "c9167351",
   "metadata": {},
   "outputs": [
    {
     "name": "stdout",
     "output_type": "stream",
     "text": [
      "Collecting seleniumNote: you may need to restart the kernel to use updated packages.\n",
      "  Downloading selenium-4.26.1-py3-none-any.whl (9.7 MB)\n",
      "Collecting trio~=0.17\n",
      "  Downloading trio-0.27.0-py3-none-any.whl (481 kB)\n",
      "Collecting websocket-client~=1.8\n",
      "  Downloading websocket_client-1.8.0-py3-none-any.whl (58 kB)\n",
      "Collecting typing_extensions~=4.9\n",
      "  Downloading typing_extensions-4.12.2-py3-none-any.whl (37 kB)\n",
      "Collecting trio-websocket~=0.9\n",
      "  Downloading trio_websocket-0.11.1-py3-none-any.whl (17 kB)\n",
      "Requirement already satisfied: urllib3[socks]<3,>=1.26 in c:\\users\\kksks\\anaconda3\\lib\\site-packages (from selenium) (1.26.7)\n",
      "\n",
      "Requirement already satisfied: certifi>=2021.10.8 in c:\\users\\kksks\\anaconda3\\lib\\site-packages (from selenium) (2021.10.8)\n",
      "Requirement already satisfied: idna in c:\\users\\kksks\\anaconda3\\lib\\site-packages (from trio~=0.17->selenium) (3.2)\n",
      "Collecting exceptiongroup\n",
      "  Downloading exceptiongroup-1.2.2-py3-none-any.whl (16 kB)\n",
      "Collecting sniffio>=1.3.0\n",
      "  Downloading sniffio-1.3.1-py3-none-any.whl (10 kB)\n",
      "Requirement already satisfied: sortedcontainers in c:\\users\\kksks\\anaconda3\\lib\\site-packages (from trio~=0.17->selenium) (2.4.0)\n",
      "Requirement already satisfied: cffi>=1.14 in c:\\users\\kksks\\anaconda3\\lib\\site-packages (from trio~=0.17->selenium) (1.14.6)\n",
      "Collecting outcome\n",
      "  Downloading outcome-1.3.0.post0-py2.py3-none-any.whl (10 kB)\n",
      "Collecting attrs>=23.2.0\n",
      "  Downloading attrs-24.2.0-py3-none-any.whl (63 kB)\n",
      "Requirement already satisfied: pycparser in c:\\users\\kksks\\anaconda3\\lib\\site-packages (from cffi>=1.14->trio~=0.17->selenium) (2.20)\n",
      "Collecting wsproto>=0.14\n",
      "  Downloading wsproto-1.2.0-py3-none-any.whl (24 kB)\n",
      "Requirement already satisfied: PySocks!=1.5.7,<2.0,>=1.5.6 in c:\\users\\kksks\\anaconda3\\lib\\site-packages (from urllib3[socks]<3,>=1.26->selenium) (1.7.1)\n",
      "Collecting h11<1,>=0.9.0\n",
      "  Downloading h11-0.14.0-py3-none-any.whl (58 kB)\n",
      "Installing collected packages: attrs, sniffio, outcome, h11, exceptiongroup, wsproto, trio, websocket-client, typing-extensions, trio-websocket, selenium\n",
      "  Attempting uninstall: attrs\n",
      "    Found existing installation: attrs 21.2.0\n",
      "    Uninstalling attrs-21.2.0:\n",
      "      Successfully uninstalled attrs-21.2.0\n",
      "  Attempting uninstall: sniffio\n",
      "    Found existing installation: sniffio 1.2.0\n",
      "    Uninstalling sniffio-1.2.0:\n",
      "      Successfully uninstalled sniffio-1.2.0\n",
      "  Attempting uninstall: typing-extensions\n",
      "    Found existing installation: typing-extensions 3.10.0.2\n",
      "    Uninstalling typing-extensions-3.10.0.2:\n",
      "      Successfully uninstalled typing-extensions-3.10.0.2\n",
      "Successfully installed attrs-24.2.0 exceptiongroup-1.2.2 h11-0.14.0 outcome-1.3.0.post0 selenium-4.26.1 sniffio-1.3.1 trio-0.27.0 trio-websocket-0.11.1 typing-extensions-4.12.2 websocket-client-1.8.0 wsproto-1.2.0\n"
     ]
    }
   ],
   "source": [
    "pip install selenium"
   ]
  },
  {
   "cell_type": "code",
   "execution_count": 2,
   "id": "e470e3e3",
   "metadata": {},
   "outputs": [
    {
     "name": "stdout",
     "output_type": "stream",
     "text": [
      "Collecting pyperclip\n",
      "  Downloading pyperclip-1.9.0.tar.gz (20 kB)\n",
      "Building wheels for collected packages: pyperclip\n",
      "  Building wheel for pyperclip (setup.py): started\n",
      "  Building wheel for pyperclip (setup.py): finished with status 'done'\n",
      "  Created wheel for pyperclip: filename=pyperclip-1.9.0-py3-none-any.whl size=11013 sha256=4525992779a20ee4707116329f3d57e1b7b720f4b765104350c981ed7e473eeb\n",
      "  Stored in directory: c:\\users\\kksks\\appdata\\local\\pip\\cache\\wheels\\b2\\12\\87\\f136269baa23c0afc652d05f3bd48834f4f6658b42365036c7\n",
      "Successfully built pyperclip\n",
      "Installing collected packages: pyperclip\n",
      "Successfully installed pyperclip-1.9.0\n",
      "Note: you may need to restart the kernel to use updated packages.\n"
     ]
    }
   ],
   "source": [
    "pip install pyperclip"
   ]
  },
  {
   "cell_type": "code",
   "execution_count": 35,
   "id": "092a2f1f",
   "metadata": {},
   "outputs": [
    {
     "name": "stdout",
     "output_type": "stream",
     "text": [
      "Requirement already satisfied: pandas in c:\\users\\kksks\\anaconda3\\lib\\site-packages (1.3.4)\n",
      "Requirement already satisfied: openpyxl in c:\\users\\kksks\\anaconda3\\lib\\site-packages (3.0.9)\n",
      "Requirement already satisfied: python-dateutil>=2.7.3 in c:\\users\\kksks\\anaconda3\\lib\\site-packages (from pandas) (2.8.2)\n",
      "Requirement already satisfied: pytz>=2017.3 in c:\\users\\kksks\\anaconda3\\lib\\site-packages (from pandas) (2021.3)\n",
      "Requirement already satisfied: numpy>=1.17.3 in c:\\users\\kksks\\anaconda3\\lib\\site-packages (from pandas) (1.22.4)\n",
      "Requirement already satisfied: et-xmlfile in c:\\users\\kksks\\anaconda3\\lib\\site-packages (from openpyxl) (1.1.0)\n",
      "Requirement already satisfied: six>=1.5 in c:\\users\\kksks\\anaconda3\\lib\\site-packages (from python-dateutil>=2.7.3->pandas) (1.16.0)\n",
      "Note: you may need to restart the kernel to use updated packages.\n"
     ]
    }
   ],
   "source": [
    "pip install pandas openpyxl"
   ]
  },
  {
   "cell_type": "code",
   "execution_count": 39,
   "id": "a47a7b38",
   "metadata": {},
   "outputs": [
    {
     "name": "stdout",
     "output_type": "stream",
     "text": [
      "보낸 사람\n",
      "팟빵\n",
      "보낸 사람\n",
      "네이버페이\n",
      "보낸 사람\n",
      "익스트림\n",
      "보낸 사람\n",
      "Bybit\n",
      "보낸 사람\n",
      "국방부\n",
      "보낸 사람\n",
      "옥션\n",
      "보낸 사람\n",
      "카카오모빌리티\n",
      "보낸 사람\n",
      "Apple\n",
      "보낸 사람\n",
      "Apple\n",
      "보낸 사람\n",
      "해피캠퍼스\n",
      "보낸 사람\n",
      "토스뱅크\n",
      "보낸 사람\n",
      "야놀자\n",
      "보낸 사람\n",
      "곽아현\n",
      "보낸 사람\n",
      "Microsoft 계정 팀\n",
      "보낸 사람\n",
      "KREAM\n"
     ]
    }
   ],
   "source": [
    "from selenium import webdriver\n",
    "from selenium.webdriver.common.by import By\n",
    "from selenium.webdriver.common.keys import Keys\n",
    "import pyperclip\n",
    "import pandas as pd\n",
    "\n",
    "userid='kkskss1025'\n",
    "userpw='ehdgk0602!'\n",
    "#로그인시도\n",
    "driver = webdriver.Chrome()\n",
    "driver.implicitly_wait(3)\n",
    "\n",
    "driver.get('https://nid.naver.com/nidlogin.login')\n",
    "\n",
    "driver.find_element(By.NAME,'id').click()\n",
    "pyperclip.copy(userid)\n",
    "driver.find_element(By.NAME,'id').send_keys(Keys.CONTROL,'v')\n",
    "                    \n",
    "driver.find_element(By.NAME,'pw').click()\n",
    "pyperclip.copy(userpw)\n",
    "driver.find_element(By.NAME,'pw').send_keys(Keys.CONTROL,'v')\n",
    "driver.find_element(By.XPATH,'//*[@id=\"log.login\"]').click()\n",
    "driver.get('https://mail.naver.com/')\n",
    "\n",
    "#값가져오기\n",
    "# 'button_sender' 클래스를 가진 모든 요소 선택\n",
    "elements = driver.find_elements(By.CLASS_NAME, \"button_sender\")\n",
    "\n",
    "# 요소 텍스트 출력\n",
    "for element in elements:\n",
    "    print(element.text)\n",
    "\n",
    "# 작업 완료 후 드라이버 종료\n",
    "driver.quit()\n"
   ]
  },
  {
   "cell_type": "code",
   "execution_count": 38,
   "id": "1a0ea71f",
   "metadata": {},
   "outputs": [
    {
     "name": "stdout",
     "output_type": "stream",
     "text": [
      "데이터가 sender_data.xlsx 파일에 저장되었습니다.\n"
     ]
    }
   ],
   "source": [
    "from selenium import webdriver\n",
    "from selenium.webdriver.common.by import By\n",
    "from selenium.webdriver.common.keys import Keys\n",
    "import pyperclip\n",
    "\n",
    "userid='kkskss1025'\n",
    "userpw='ehdgk0602!'\n",
    "#로그인시도\n",
    "driver = webdriver.Chrome()\n",
    "driver.implicitly_wait(3)\n",
    "\n",
    "driver.get('https://nid.naver.com/nidlogin.login')\n",
    "\n",
    "driver.find_element(By.NAME,'id').click()\n",
    "pyperclip.copy(userid)\n",
    "driver.find_element(By.NAME,'id').send_keys(Keys.CONTROL,'v')\n",
    "                    \n",
    "driver.find_element(By.NAME,'pw').click()\n",
    "pyperclip.copy(userpw)\n",
    "driver.find_element(By.NAME,'pw').send_keys(Keys.CONTROL,'v')\n",
    "driver.find_element(By.XPATH,'//*[@id=\"log.login\"]').click()\n",
    "driver.get('https://mail.naver.com/')\n",
    "# 'button_sender' 클래스를 가진 모든 요소 선택\n",
    "elements = driver.find_elements(By.CLASS_NAME, \"button_sender\")\n",
    "\n",
    "# 결과 값을 저장할 리스트 생성\n",
    "data = []\n",
    "\n",
    "# 요소 텍스트에서 \"보낸 사람\"을 제외하고 리스트에 추가\n",
    "for element in elements:\n",
    "    text = element.text.replace(\"보낸 사람\", \"\").strip()  # \"보낸 사람\" 제거\n",
    "    data.append(text)\n",
    "\n",
    "# 드라이버 종료\n",
    "driver.quit()\n",
    "\n",
    "# 데이터를 DataFrame으로 변환 후 Excel 파일로 저장\n",
    "df = pd.DataFrame(data, columns=[\"Sender\"])\n",
    "df.to_excel(\"sender_data.xlsx\", index=False)\n",
    "\n",
    "print(\"데이터가 sender_data.xlsx 파일에 저장되었습니다.\")\n"
   ]
  },
  {
   "cell_type": "code",
   "execution_count": null,
   "id": "71df75f1",
   "metadata": {},
   "outputs": [],
   "source": []
  }
 ],
 "metadata": {
  "kernelspec": {
   "display_name": "Python 3 (ipykernel)",
   "language": "python",
   "name": "python3"
  },
  "language_info": {
   "codemirror_mode": {
    "name": "ipython",
    "version": 3
   },
   "file_extension": ".py",
   "mimetype": "text/x-python",
   "name": "python",
   "nbconvert_exporter": "python",
   "pygments_lexer": "ipython3",
   "version": "3.9.7"
  }
 },
 "nbformat": 4,
 "nbformat_minor": 5
}
